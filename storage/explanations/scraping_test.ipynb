{
 "cells": [
  {
   "cell_type": "markdown",
   "id": "c7f48be9",
   "metadata": {},
   "source": [
    "Certain packages for this procedure need to be installed, this includes: pandas, seleniium beautifulsoup4, webdriver-manager, and openpyxl.\n",
    "In order for this procedure to work, you need to paste the line below in your powershell before proceeding:\n",
    "\n",
    "\"pip install pandas selenium beautifulsoup4 webdriver-manager openpyxl\"\n"
   ]
  },
  {
   "cell_type": "code",
   "execution_count": 17,
   "id": "1ac270ad",
   "metadata": {},
   "outputs": [],
   "source": [
    "import pandas as pd\n",
    "\n",
    "# Load URLs from an Excel or CSV file\n",
    "def load_urls(file_path):\n",
    "    # Read the file into a DataFrame\n",
    "    df = pd.read_csv(file_path)  # Use read_csv() for CSV files\n",
    "    urls = df['URL'].tolist()  # The column containing URLs is named 'URL'\n",
    "    return urls\n"
   ]
  },
  {
   "cell_type": "markdown",
   "id": "97d11778",
   "metadata": {},
   "source": [
    "Checking how many URLs are listed in file"
   ]
  },
  {
   "cell_type": "code",
   "execution_count": 18,
   "id": "e235423b",
   "metadata": {},
   "outputs": [
    {
     "name": "stdout",
     "output_type": "stream",
     "text": [
      "Loaded 7 URLs.\n"
     ]
    }
   ],
   "source": [
    "# Example usage\n",
    "file_path = \"websites.csv\"  #CSV file containing URLS\n",
    "url_list = load_urls(file_path)\n",
    "print(f\"Loaded {len(url_list)} URLs.\")\n"
   ]
  },
  {
   "cell_type": "markdown",
   "id": "d6b54386",
   "metadata": {},
   "source": [
    "Summary of 'websites' csv file - procedure will access the URL of each row"
   ]
  },
  {
   "cell_type": "code",
   "execution_count": 19,
   "id": "f5f96f40",
   "metadata": {},
   "outputs": [
    {
     "data": {
      "text/html": [
       "<div>\n",
       "<style scoped>\n",
       "    .dataframe tbody tr th:only-of-type {\n",
       "        vertical-align: middle;\n",
       "    }\n",
       "\n",
       "    .dataframe tbody tr th {\n",
       "        vertical-align: top;\n",
       "    }\n",
       "\n",
       "    .dataframe thead th {\n",
       "        text-align: right;\n",
       "    }\n",
       "</style>\n",
       "<table border=\"1\" class=\"dataframe\">\n",
       "  <thead>\n",
       "    <tr style=\"text-align: right;\">\n",
       "      <th></th>\n",
       "      <th>Name</th>\n",
       "      <th>API?</th>\n",
       "      <th>Type (HTML/XML, Javascript, PDF)</th>\n",
       "      <th>Robots.txt permission?</th>\n",
       "      <th>Crawl-Delay?</th>\n",
       "      <th>URL</th>\n",
       "      <th>CATEGORY</th>\n",
       "    </tr>\n",
       "  </thead>\n",
       "  <tbody>\n",
       "    <tr>\n",
       "      <th>0</th>\n",
       "      <td>Describing Hearing Loss</td>\n",
       "      <td>NO</td>\n",
       "      <td>HTML</td>\n",
       "      <td>YES</td>\n",
       "      <td>NaN</td>\n",
       "      <td>https://www.aussiedeafkids.org.au/resources/yo...</td>\n",
       "      <td>Education</td>\n",
       "    </tr>\n",
       "    <tr>\n",
       "      <th>1</th>\n",
       "      <td>Describing the severity of a hearing loss</td>\n",
       "      <td>NO</td>\n",
       "      <td>HTML</td>\n",
       "      <td>YES</td>\n",
       "      <td>NaN</td>\n",
       "      <td>https://www.aussiedeafkids.org.au/resources/yo...</td>\n",
       "      <td>Education</td>\n",
       "    </tr>\n",
       "    <tr>\n",
       "      <th>2</th>\n",
       "      <td>What do hearing aids do?</td>\n",
       "      <td>NO</td>\n",
       "      <td>HTML</td>\n",
       "      <td>YES</td>\n",
       "      <td>NaN</td>\n",
       "      <td>https://www.aussiedeafkids.org.au/resources/yo...</td>\n",
       "      <td>Hearing Aids</td>\n",
       "    </tr>\n",
       "    <tr>\n",
       "      <th>3</th>\n",
       "      <td>Sound Waves</td>\n",
       "      <td>NO</td>\n",
       "      <td>PDF</td>\n",
       "      <td>YES</td>\n",
       "      <td>NaN</td>\n",
       "      <td>https://www.aussiedeafkids.org.au/wp-content/u...</td>\n",
       "      <td>Education</td>\n",
       "    </tr>\n",
       "    <tr>\n",
       "      <th>4</th>\n",
       "      <td>Classroom tips</td>\n",
       "      <td>NO</td>\n",
       "      <td>HTML</td>\n",
       "      <td>YES</td>\n",
       "      <td>NaN</td>\n",
       "      <td>https://www.aussiedeafkids.org.au/resources/ed...</td>\n",
       "      <td>Teacher resources</td>\n",
       "    </tr>\n",
       "    <tr>\n",
       "      <th>5</th>\n",
       "      <td>How listener friendly is your classroom?</td>\n",
       "      <td>NO</td>\n",
       "      <td>HTML</td>\n",
       "      <td>YES</td>\n",
       "      <td>NaN</td>\n",
       "      <td>https://www.aussiedeafkids.org.au/resources/ed...</td>\n",
       "      <td>Teacher resources</td>\n",
       "    </tr>\n",
       "    <tr>\n",
       "      <th>6</th>\n",
       "      <td>A quick guide to communication</td>\n",
       "      <td>NO</td>\n",
       "      <td>HTML</td>\n",
       "      <td>YES</td>\n",
       "      <td>NaN</td>\n",
       "      <td>https://www.aussiedeafkids.org.au/resources/la...</td>\n",
       "      <td>Education</td>\n",
       "    </tr>\n",
       "  </tbody>\n",
       "</table>\n",
       "</div>"
      ],
      "text/plain": [
       "                                        Name API?  \\\n",
       "0                    Describing Hearing Loss   NO   \n",
       "1  Describing the severity of a hearing loss   NO   \n",
       "2                   What do hearing aids do?   NO   \n",
       "3                                Sound Waves   NO   \n",
       "4                             Classroom tips   NO   \n",
       "5   How listener friendly is your classroom?   NO   \n",
       "6             A quick guide to communication   NO   \n",
       "\n",
       "  Type (HTML/XML, Javascript, PDF) Robots.txt permission?  Crawl-Delay?  \\\n",
       "0                             HTML                    YES           NaN   \n",
       "1                             HTML                    YES           NaN   \n",
       "2                             HTML                    YES           NaN   \n",
       "3                              PDF                    YES           NaN   \n",
       "4                             HTML                    YES           NaN   \n",
       "5                             HTML                    YES           NaN   \n",
       "6                             HTML                    YES           NaN   \n",
       "\n",
       "                                                 URL           CATEGORY  \n",
       "0  https://www.aussiedeafkids.org.au/resources/yo...          Education  \n",
       "1  https://www.aussiedeafkids.org.au/resources/yo...          Education  \n",
       "2  https://www.aussiedeafkids.org.au/resources/yo...       Hearing Aids  \n",
       "3  https://www.aussiedeafkids.org.au/wp-content/u...          Education  \n",
       "4  https://www.aussiedeafkids.org.au/resources/ed...  Teacher resources  \n",
       "5  https://www.aussiedeafkids.org.au/resources/ed...  Teacher resources  \n",
       "6  https://www.aussiedeafkids.org.au/resources/la...          Education  "
      ]
     },
     "execution_count": 19,
     "metadata": {},
     "output_type": "execute_result"
    }
   ],
   "source": [
    "websiteData = pd.read_csv(\"websites.csv\")\n",
    "websiteData"
   ]
  },
  {
   "cell_type": "markdown",
   "id": "7bb0eef1",
   "metadata": {},
   "source": [
    "The 'webdriver manager' package allows the program to open a browser tab in Google Chrome (assuming it has been installed)\n",
    "It will be used to access the URLs within the 'websites' csv file, in order for the web-scraping function to work.\n",
    "- While the function executes, a google chrome window will open and attempt to go through each individual URL, which will be displayed on your screen."
   ]
  },
  {
   "cell_type": "code",
   "execution_count": 20,
   "id": "4ec82a0d",
   "metadata": {},
   "outputs": [],
   "source": [
    "from selenium import webdriver\n",
    "from selenium.webdriver.chrome.service import Service\n",
    "from webdriver_manager.chrome import ChromeDriverManager\n",
    "from bs4 import BeautifulSoup\n",
    "\n",
    "# Initialize Selenium WebDriver\n",
    "driver = webdriver.Chrome(service=Service(ChromeDriverManager().install()))"
   ]
  },
  {
   "cell_type": "code",
   "execution_count": 21,
   "id": "05f7991f",
   "metadata": {},
   "outputs": [],
   "source": [
    "# Function to scrape data from a single URL\n",
    "def scrape_data(url):\n",
    "    driver.get(url)  # Open the webpage\n",
    "    html = driver.page_source  # Get HTML content\n",
    "    \n",
    "    soup = BeautifulSoup(html, \"html.parser\")\n",
    "    \n",
    "    # Extract relevant data (customize selectors based on target website)\n",
    "    title = soup.title.text if soup.title else \"No title found\"\n",
    "    main_content = soup.find(\"div\", class_=\"content-type-content\")  # Example selector\n",
    "    \n",
    "    if main_content:\n",
    "        content_text = main_content.get_text().strip()\n",
    "    else:\n",
    "        content_text = \"No content found\"\n",
    "    \n",
    "    return {\"URL\": url, \"Title\": title, \"Content\": content_text}"
   ]
  },
  {
   "cell_type": "code",
   "execution_count": 22,
   "id": "31241a97",
   "metadata": {},
   "outputs": [
    {
     "name": "stdout",
     "output_type": "stream",
     "text": [
      "Scraped data from https://www.aussiedeafkids.org.au/resources/your-childs-hearing/hearing-loss/describing-hearing-loss/\n",
      "Scraped data from https://www.aussiedeafkids.org.au/resources/your-childs-hearing/hearing-loss/describing-the-severity-of-a-hearing-loss/\n",
      "Scraped data from https://www.aussiedeafkids.org.au/resources/your-childs-hearing/hearing-aids/what-do-hearing-aids-do/\n",
      "Scraped data from https://www.aussiedeafkids.org.au/wp-content/uploads/2024/12/Sound-Waves-section-5.pdf\n",
      "Scraped data from https://www.aussiedeafkids.org.au/resources/education/information-for-your-childs-teacher/classroom-tips/\n",
      "Scraped data from https://www.aussiedeafkids.org.au/resources/education/information-for-your-childs-teacher/how-listener-friendly-is-your-classroom/\n",
      "Scraped data from https://www.aussiedeafkids.org.au/resources/language-and-communication/getting-started/a-quick-guide-to-communication/\n"
     ]
    }
   ],
   "source": [
    "# Example usage\n",
    "scraped_data = []\n",
    "for url in url_list:\n",
    "    try:\n",
    "        data = scrape_data(url)\n",
    "        scraped_data.append(data)\n",
    "        print(f\"Scraped data from {url}\")\n",
    "    except Exception as e:\n",
    "        print(f\"Failed to scrape {url}: {e}\")"
   ]
  },
  {
   "cell_type": "markdown",
   "id": "8567c77a",
   "metadata": {},
   "source": [
    "The scraped data, will then be saved to a seperate CSV file, it will also specifiy if the procedure didn't work for a particular URL - thus saying 'no content found' in the content column, and respectively for the title column. "
   ]
  },
  {
   "cell_type": "code",
   "execution_count": 23,
   "id": "c938e67d",
   "metadata": {},
   "outputs": [],
   "source": [
    "# Save scraped data to a CSV file\n",
    "def save_to_csv(data, output_file):\n",
    "    df = pd.DataFrame(data)  # Convert list of dictionaries to DataFrame\n",
    "    df.to_csv(output_file, index=False)\n",
    "    print(f\"Data saved to {output_file}\")"
   ]
  },
  {
   "cell_type": "code",
   "execution_count": 24,
   "id": "7503abbc",
   "metadata": {},
   "outputs": [
    {
     "name": "stdout",
     "output_type": "stream",
     "text": [
      "Data saved to scraped_data.csv\n"
     ]
    },
    {
     "data": {
      "text/html": [
       "<div>\n",
       "<style scoped>\n",
       "    .dataframe tbody tr th:only-of-type {\n",
       "        vertical-align: middle;\n",
       "    }\n",
       "\n",
       "    .dataframe tbody tr th {\n",
       "        vertical-align: top;\n",
       "    }\n",
       "\n",
       "    .dataframe thead th {\n",
       "        text-align: right;\n",
       "    }\n",
       "</style>\n",
       "<table border=\"1\" class=\"dataframe\">\n",
       "  <thead>\n",
       "    <tr style=\"text-align: right;\">\n",
       "      <th></th>\n",
       "      <th>URL</th>\n",
       "      <th>Title</th>\n",
       "      <th>Content</th>\n",
       "    </tr>\n",
       "  </thead>\n",
       "  <tbody>\n",
       "    <tr>\n",
       "      <th>0</th>\n",
       "      <td>https://www.aussiedeafkids.org.au/resources/yo...</td>\n",
       "      <td>Describing hearing loss | Aussie Deaf Kids</td>\n",
       "      <td>The following questions help to identify the d...</td>\n",
       "    </tr>\n",
       "    <tr>\n",
       "      <th>1</th>\n",
       "      <td>https://www.aussiedeafkids.org.au/resources/yo...</td>\n",
       "      <td>Describing the severity of a hearing loss | Au...</td>\n",
       "      <td>When hearing loss is measured, it will be desc...</td>\n",
       "    </tr>\n",
       "    <tr>\n",
       "      <th>2</th>\n",
       "      <td>https://www.aussiedeafkids.org.au/resources/yo...</td>\n",
       "      <td>What do hearing aids do? | Aussie Deaf Kids</td>\n",
       "      <td>It is a common belief that people with hearing...</td>\n",
       "    </tr>\n",
       "    <tr>\n",
       "      <th>3</th>\n",
       "      <td>https://www.aussiedeafkids.org.au/wp-content/u...</td>\n",
       "      <td>No title found</td>\n",
       "      <td>No content found</td>\n",
       "    </tr>\n",
       "    <tr>\n",
       "      <th>4</th>\n",
       "      <td>https://www.aussiedeafkids.org.au/resources/ed...</td>\n",
       "      <td>Classroom tips | Aussie Deaf Kids</td>\n",
       "      <td>When addressing the pupil say his/her name fir...</td>\n",
       "    </tr>\n",
       "    <tr>\n",
       "      <th>5</th>\n",
       "      <td>https://www.aussiedeafkids.org.au/resources/ed...</td>\n",
       "      <td>How listener friendly is your classroom? | Aus...</td>\n",
       "      <td>A good listening environment is crucial to suc...</td>\n",
       "    </tr>\n",
       "    <tr>\n",
       "      <th>6</th>\n",
       "      <td>https://www.aussiedeafkids.org.au/resources/la...</td>\n",
       "      <td>A quick guide to communication | Aussie Deaf Kids</td>\n",
       "      <td>As your child grows, it will be important to u...</td>\n",
       "    </tr>\n",
       "  </tbody>\n",
       "</table>\n",
       "</div>"
      ],
      "text/plain": [
       "                                                 URL  \\\n",
       "0  https://www.aussiedeafkids.org.au/resources/yo...   \n",
       "1  https://www.aussiedeafkids.org.au/resources/yo...   \n",
       "2  https://www.aussiedeafkids.org.au/resources/yo...   \n",
       "3  https://www.aussiedeafkids.org.au/wp-content/u...   \n",
       "4  https://www.aussiedeafkids.org.au/resources/ed...   \n",
       "5  https://www.aussiedeafkids.org.au/resources/ed...   \n",
       "6  https://www.aussiedeafkids.org.au/resources/la...   \n",
       "\n",
       "                                               Title  \\\n",
       "0         Describing hearing loss | Aussie Deaf Kids   \n",
       "1  Describing the severity of a hearing loss | Au...   \n",
       "2        What do hearing aids do? | Aussie Deaf Kids   \n",
       "3                                     No title found   \n",
       "4                  Classroom tips | Aussie Deaf Kids   \n",
       "5  How listener friendly is your classroom? | Aus...   \n",
       "6  A quick guide to communication | Aussie Deaf Kids   \n",
       "\n",
       "                                             Content  \n",
       "0  The following questions help to identify the d...  \n",
       "1  When hearing loss is measured, it will be desc...  \n",
       "2  It is a common belief that people with hearing...  \n",
       "3                                   No content found  \n",
       "4  When addressing the pupil say his/her name fir...  \n",
       "5  A good listening environment is crucial to suc...  \n",
       "6  As your child grows, it will be important to u...  "
      ]
     },
     "execution_count": 24,
     "metadata": {},
     "output_type": "execute_result"
    }
   ],
   "source": [
    "# Example usage\n",
    "output_file = \"scraped_data.csv\"\n",
    "save_to_csv(scraped_data, output_file)\n",
    "\n",
    "datascrapResults = pd.read_csv(\"scraped_data.csv\")\n",
    "datascrapResults"
   ]
  }
 ],
 "metadata": {
  "kernelspec": {
   "display_name": ".conda",
   "language": "python",
   "name": "python3"
  },
  "language_info": {
   "codemirror_mode": {
    "name": "ipython",
    "version": 3
   },
   "file_extension": ".py",
   "mimetype": "text/x-python",
   "name": "python",
   "nbconvert_exporter": "python",
   "pygments_lexer": "ipython3",
   "version": "3.11.11"
  }
 },
 "nbformat": 4,
 "nbformat_minor": 5
}
